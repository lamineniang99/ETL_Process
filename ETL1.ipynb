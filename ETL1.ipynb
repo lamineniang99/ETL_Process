{
 "cells": [
  {
   "cell_type": "markdown",
   "metadata": {},
   "source": [
    "## Importation des biblioteque"
   ]
  },
  {
   "cell_type": "code",
   "execution_count": 2,
   "metadata": {},
   "outputs": [],
   "source": [
    "import numpy as np\n",
    "from sqlalchemy import create_engine\n",
    "import glob as g \n",
    "import pandas as pd "
   ]
  },
  {
   "cell_type": "code",
   "execution_count": 3,
   "metadata": {},
   "outputs": [
    {
     "name": "stdout",
     "output_type": "stream",
     "text": [
      "Requirement already satisfied: mysql-connector-python in c:\\users\\lamine niang\\anaconda3\\lib\\site-packages (8.3.0)\n",
      "Note: you may need to restart the kernel to use updated packages.\n"
     ]
    }
   ],
   "source": [
    "# Si c'est pas installer \n",
    "pip install mysql-connector-python"
   ]
  },
  {
   "cell_type": "code",
   "execution_count": 28,
   "metadata": {},
   "outputs": [
    {
     "name": "stdout",
     "output_type": "stream",
     "text": [
      "Collecting python-dotenv\n",
      "  Downloading python_dotenv-1.0.1-py3-none-any.whl (19 kB)\n",
      "Installing collected packages: python-dotenv\n",
      "Successfully installed python-dotenv-1.0.1\n",
      "Note: you may need to restart the kernel to use updated packages.\n"
     ]
    }
   ],
   "source": [
    "pip install python-dotenv"
   ]
  },
  {
   "cell_type": "markdown",
   "metadata": {},
   "source": [
    "  \n",
    "#### configuration du moteur pour se connecter à une base de données Mysql appelée \"ETL_DATABASE\" sur localhost (votre propre machine) au port 3306, en utilisant le nom d'utilisateur \"root\" et le mot de passe \"\"."
   ]
  },
  {
   "cell_type": "code",
   "execution_count": 29,
   "metadata": {},
   "outputs": [],
   "source": [
    "from dotenv import load_dotenv\n",
    "import os\n",
    "\n",
    "# Charger les variables d'environnement à partir du fichier .env\n",
    "load_dotenv()\n",
    "\n",
    "# Accéder aux variables d'environnement chargées\n",
    "user_name = os.getenv(\"USER_NAME\")\n",
    "password = os.getenv(\"PASSWOR\")\n",
    "\n"
   ]
  },
  {
   "cell_type": "code",
   "execution_count": 34,
   "metadata": {},
   "outputs": [],
   "source": [
    "engine = create_engine(\"mysql+mysqlconnector://\"+str(user_name)+\":@localhost:3306/elt_database\")"
   ]
  },
  {
   "cell_type": "markdown",
   "metadata": {},
   "source": [
    "### Création de classe pour le processus ETL"
   ]
  },
  {
   "cell_type": "code",
   "execution_count": 35,
   "metadata": {},
   "outputs": [],
   "source": [
    "class ETLProcess : \n",
    "    def __init__(self):\n",
    "        pass\n",
    "    \n",
    "    # Extraction\n",
    "    \n",
    "    def load_csv(self):\n",
    "        dico = {}\n",
    "        fichiers = g.glob(\"*.csv\")\n",
    "        for file in fichiers :\n",
    "            dico[file] = pd.read_csv(file)\n",
    "        # print(dico)\n",
    "        return dico\n",
    "    \n",
    "    def load_json(self) :\n",
    "        dico = {}\n",
    "        \n",
    "        fichiers = g.glob(\"*.json\")\n",
    "        for file in fichiers :\n",
    "            dico[file] = pd.read_json(file)\n",
    "        return dico\n",
    "    \n",
    "    def load_sql(self) :\n",
    "        data = pd.read_sql('SELECT * FROM table_source', engine)\n",
    "        return data\n",
    "    \n",
    "    # Transformation\n",
    "    \n",
    "    def transform(self) :\n",
    "        data_csv = self.load_csv().get(\"data.csv\").drop(columns = [\"id\"], axis=1)\n",
    "        data_json = self.load_json().get(\"data.json\").drop(columns=[\"id\"], axis=1)\n",
    "        data_sql = self.load_sql().drop(columns=[\"id\"])\n",
    "        data = pd.concat([data_csv, data_json, data_sql], axis=0, ignore_index=True)\n",
    "        data[\"majeur\"] = data['age'] >= 18\n",
    "        return data\n",
    "    \n",
    "    def save(self) :\n",
    "        data = self.transform()\n",
    "        data.to_sql(\"table_final1\", engine)\n",
    "        print(\"!!!! Table crée\")\n",
    "    \n",
    "        "
   ]
  },
  {
   "cell_type": "code",
   "execution_count": 36,
   "metadata": {},
   "outputs": [
    {
     "name": "stdout",
     "output_type": "stream",
     "text": [
      "!!!! Table crée\n"
     ]
    }
   ],
   "source": [
    "if __name__ == \"__main__\" :\n",
    "    etl = ETLProcess()\n",
    "    \n",
    "    etl.save()\n",
    "    "
   ]
  }
 ],
 "metadata": {
  "kernelspec": {
   "display_name": "Python 3",
   "language": "python",
   "name": "python3"
  },
  "language_info": {
   "codemirror_mode": {
    "name": "ipython",
    "version": 3
   },
   "file_extension": ".py",
   "mimetype": "text/x-python",
   "name": "python",
   "nbconvert_exporter": "python",
   "pygments_lexer": "ipython3",
   "version": "3.9.13"
  }
 },
 "nbformat": 4,
 "nbformat_minor": 2
}
